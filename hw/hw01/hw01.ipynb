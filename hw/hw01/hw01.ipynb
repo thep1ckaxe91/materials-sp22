{
 "cells": [
  {
   "cell_type": "code",
   "execution_count": 28,
   "id": "cell-hw01-0",
   "metadata": {
    "deletable": false,
    "editable": false
   },
   "outputs": [],
   "source": [
    "# Initialize Otter\n",
    "import otter\n",
    "grader = otter.Notebook(\"hw01.ipynb\")"
   ]
  },
  {
   "cell_type": "markdown",
   "id": "cell-hw01-1",
   "metadata": {},
   "source": [
    "# Homework 1: Causality and Expressions\n",
    "\n",
    "Please complete this notebook by filling in the cells provided. Before you begin, run the previous cell to load the provided tests."
   ]
  },
  {
   "cell_type": "markdown",
   "id": "cell-hw01-2",
   "metadata": {},
   "source": [
    "**Recommended Readings:**\n",
    "\n",
    "- [What is Data Science?](http://www.inferentialthinking.com/chapters/01/what-is-data-science.html)\n",
    "- [Causality and Experiments](http://www.inferentialthinking.com/chapters/02/causality-and-experiments.html) \n",
    "- [Programming in Python](http://www.inferentialthinking.com/chapters/03/programming-in-python.html)\n",
    "\n",
    "For all problems that you must write explanations and sentences for, you **must** provide your answer in the designated space. Moreover, throughout this homework and all future ones, please be sure to not re-assign variables throughout the notebook! For example, if you use `max_temperature` in your answer to one question, do not reassign it later on. Otherwise, you will fail tests that you thought you were passing previously!\n",
    "\n",
    "\n",
    "**Note: This homework has hidden tests on it. That means even though tests may say 100% passed, it doesn't mean your final grade will be 100%. We will be running more hidden tests for correctness once everyone turns in the homework.**\n",
    "\n",
    "Directly sharing answers is not okay, but discussing problems with the course staff or with other students is encouraged. \n",
    "\n",
    "You should start early so that you have time to get help if you're stuck."
   ]
  },
  {
   "cell_type": "markdown",
   "id": "cell-hw01-3",
   "metadata": {},
   "source": [
    "## 1. Scary Arithmetic"
   ]
  },
  {
   "cell_type": "markdown",
   "id": "cell-hw01-4",
   "metadata": {
    "deletable": false,
    "editable": false
   },
   "source": [
    "<!-- BEGIN QUESTION -->\n",
    "\n",
    "An ad for ADT Security Systems says,\n",
    "\n",
    "> \"When you go on vacation, burglars go to work [...] According to FBI statistics, over 25% of home burglaries occur between Memorial Day to Labor Day.\"\n",
    "\n",
    "Do the data in the ad support the claim that burglars are more likely to go to work during the time between Memorial Day to Labor Day? Please explain your answer. **(6 Points)**\n",
    "\n",
    "**Note:** You can assume that \"over 25%\" means only slightly over. Had it been much over, say closer to 30%, then the marketers would have said so.\n",
    "\n",
    "**Note:** Memorial Day is observed on the last Monday of May and Labor Day is observed on the first Monday of September.\n"
   ]
  },
  {
   "cell_type": "markdown",
   "id": "cell-hw01-5",
   "metadata": {},
   "source": [
    "_Type your answer here, replacing this text._"
   ]
  },
  {
   "cell_type": "markdown",
   "id": "cell-hw01-6",
   "metadata": {
    "deletable": false,
    "editable": false
   },
   "source": [
    "<!-- END QUESTION -->\n",
    "\n",
    "## 2. Characters in Little Women\n"
   ]
  },
  {
   "cell_type": "markdown",
   "id": "cell-hw01-7",
   "metadata": {},
   "source": [
    "In lecture, we counted the number of times that the literary characters were named in each chapter of the classic book, [*Little Women*](https://inferentialthinking.com/chapters/01/3/1/Literary_Characters.html?highlight=little%20women). In computer science, the word \"character\" also refers to a letter, digit, space, or punctuation mark; any single element of a text. The following code generates a scatter plot in which each dot corresponds to a chapter of *Little Women*. The horizontal position of a dot measures the number of periods in the chapter. The vertical position measures the total number of characters."
   ]
  },
  {
   "cell_type": "code",
   "execution_count": 29,
   "id": "cell-hw01-8",
   "metadata": {
    "scrolled": true,
    "tags": []
   },
   "outputs": [],
   "source": [
    "# Just run this cell.\n",
    "\n",
    "# This cell contains code that hasn't yet been covered in the course,\n",
    "# but you should be able to interpret the scatter plot it generates.\n",
    "\n",
    "from datascience import *\n",
    "from urllib.request import urlopen\n",
    "import numpy as np\n",
    "%matplotlib inline\n",
    "\n",
    "little_women_url = 'https://www.inferentialthinking.com/data/little_women.txt'\n",
    "chapters = urlopen(little_women_url).read().decode().split('CHAPTER ')[1:]\n",
    "text = Table().with_column('Chapters', chapters)\n",
    "Table().with_columns(\n",
    "    'Periods',    np.char.count(chapters, '.'),\n",
    "    'Characters', text.apply(len, 0)\n",
    "    ).scatter(0)"
   ]
  },
  {
   "cell_type": "markdown",
   "id": "cell-hw01-9",
   "metadata": {
    "deletable": false,
    "editable": false
   },
   "source": [
    "**Question 1.** Around how many periods are there in the chapter with the most characters? Assign either 1, 2, 3, 4, or 5 to the name `characters_q1` below. **(4 Points)**\n",
    "\n",
    "1. 250\n",
    "2. 390\n",
    "3. 440\n",
    "4. 32,000\n",
    "5. 40,000\n",
    "\n",
    "\n",
    "**Note:** If you run into a `NameError: name 'grader' is not defined` error in the autograder cell below (and in any assignment), please re-run the first cell at the very top of this notebook!\n"
   ]
  },
  {
   "cell_type": "code",
   "execution_count": 30,
   "id": "cell-hw01-10",
   "metadata": {
    "tags": []
   },
   "outputs": [
    {
     "name": "stdout",
     "output_type": "stream",
     "text": [
      "Periods | Characters\n",
      "392     | 42162\n"
     ]
    }
   ],
   "source": [
    "text_with_periods_count = Table().with_columns(\n",
    "    'Periods',    np.char.count(chapters, '.'),\n",
    "    'Characters', text.apply(len, 0)\n",
    "    )\n",
    "\n",
    "most_character_chapter = text_with_periods_count.sort('Characters',descending=True).take(0)\n",
    "\n",
    "\n",
    "print(most_character_chapter)\n",
    "\n",
    "characters_q1 =  2\n"
   ]
  },
  {
   "cell_type": "code",
   "execution_count": 31,
   "id": "cell-hw01-11",
   "metadata": {
    "deletable": false,
    "editable": false
   },
   "outputs": [
    {
     "data": {
      "text/html": [
       "<p><strong><pre style='display: inline;'>q2_1</pre></strong> passed! 🌈</p>"
      ],
      "text/plain": [
       "q2_1 results: All test cases passed!"
      ]
     },
     "execution_count": 31,
     "metadata": {},
     "output_type": "execute_result"
    }
   ],
   "source": [
    "grader.check(\"q2_1\")"
   ]
  },
  {
   "cell_type": "markdown",
   "id": "cell-hw01-12",
   "metadata": {},
   "source": [
    "The test above checks that your answers are in the correct format. **This test does not check that you answered correctly**, only that you assigned a number successfully in each multiple-choice answer cell."
   ]
  },
  {
   "cell_type": "markdown",
   "id": "cell-hw01-13",
   "metadata": {
    "deletable": false,
    "editable": false
   },
   "source": [
    "**Question 2.** Which of the following chapters has the most characters per period? Assign either 1, 2, or 3 to the name `characters_q2` below. **(4 Points)**\n",
    "\n",
    "1. The chapter with about 60 periods\n",
    "2. The chapter with about 350 periods\n",
    "3. The chapter with about 440 periods\n"
   ]
  },
  {
   "cell_type": "code",
   "execution_count": 32,
   "id": "cell-hw01-14",
   "metadata": {
    "tags": []
   },
   "outputs": [
    {
     "name": "stdout",
     "output_type": "stream",
     "text": [
      "Periods | Characters | CpP\n",
      "61      | 11824      | 193.836\n"
     ]
    }
   ],
   "source": [
    "character_per_period_table = text_with_periods_count.with_column('CpP', text_with_periods_count.column('Characters') / text_with_periods_count.column('Periods')).sort('CpP', descending=True).take(0)\n",
    "\n",
    "print(character_per_period_table)\n",
    "\n",
    "characters_q2 = 1"
   ]
  },
  {
   "cell_type": "code",
   "execution_count": 33,
   "id": "cell-hw01-15",
   "metadata": {
    "deletable": false,
    "editable": false
   },
   "outputs": [
    {
     "data": {
      "text/html": [
       "<p><strong><pre style='display: inline;'>q2_2</pre></strong> passed! 🎉</p>"
      ],
      "text/plain": [
       "q2_2 results: All test cases passed!"
      ]
     },
     "execution_count": 33,
     "metadata": {},
     "output_type": "execute_result"
    }
   ],
   "source": [
    "grader.check(\"q2_2\")"
   ]
  },
  {
   "cell_type": "markdown",
   "id": "cell-hw01-16",
   "metadata": {},
   "source": [
    "Again, the test above checks that your answers are in the correct format, but not that you have answered correctly."
   ]
  },
  {
   "cell_type": "markdown",
   "id": "cell-hw01-17",
   "metadata": {},
   "source": [
    "To discover more interesting facts from this plot, check out [Section 1.3.2](https://inferentialthinking.com/chapters/01/3/2/Another_Kind_Of_Character.html) in the textbook."
   ]
  },
  {
   "cell_type": "markdown",
   "id": "cell-hw01-18",
   "metadata": {},
   "source": [
    "## 3. Names and Assignment Statements"
   ]
  },
  {
   "cell_type": "markdown",
   "id": "cell-hw01-19",
   "metadata": {},
   "source": [
    "**Question 1.** When you run the following cell, Python produces a cryptic error message."
   ]
  },
  {
   "cell_type": "code",
   "execution_count": 34,
   "id": "cell-hw01-20",
   "metadata": {
    "tags": [
     "raises-exception"
    ]
   },
   "outputs": [
    {
     "ename": "SyntaxError",
     "evalue": "cannot assign to literal here. Maybe you meant '==' instead of '='? (2912417615.py, line 1)",
     "output_type": "error",
     "traceback": [
      "\u001b[1;36m  Cell \u001b[1;32mIn[34], line 1\u001b[1;36m\u001b[0m\n\u001b[1;33m    4 = 2 + 2\u001b[0m\n\u001b[1;37m    ^\u001b[0m\n\u001b[1;31mSyntaxError\u001b[0m\u001b[1;31m:\u001b[0m cannot assign to literal here. Maybe you meant '==' instead of '='?\n"
     ]
    }
   ],
   "source": [
    "4 = 2 + 2"
   ]
  },
  {
   "cell_type": "markdown",
   "id": "cell-hw01-21",
   "metadata": {
    "deletable": false,
    "editable": false
   },
   "source": [
    "Choose the best explanation of what's wrong with the code, and then assign 1, 2, 3, or 4 to `names_q1` below to indicate your answer. **(4 Points)**\n",
    "\n",
    "1. Python is smart and already knows `4 = 2 + 2`.\n",
    "\n",
    "2. In Python, it's a rule that the `=` sign must have a variable name to its left, and `4` isn't a variable name.\n",
    "\n",
    "3. It should be `2 + 2 = 4`.\n",
    "\n",
    "4. I don't get an error message. This is a trick question.\n"
   ]
  },
  {
   "cell_type": "code",
   "execution_count": 35,
   "id": "cell-hw01-22",
   "metadata": {
    "tags": []
   },
   "outputs": [],
   "source": [
    "names_q1 = 2"
   ]
  },
  {
   "cell_type": "code",
   "execution_count": 36,
   "id": "cell-hw01-23",
   "metadata": {
    "deletable": false,
    "editable": false
   },
   "outputs": [
    {
     "data": {
      "text/html": [
       "<p><strong><pre style='display: inline;'>q3_1</pre></strong> passed! 🎉</p>"
      ],
      "text/plain": [
       "q3_1 results: All test cases passed!"
      ]
     },
     "execution_count": 36,
     "metadata": {},
     "output_type": "execute_result"
    }
   ],
   "source": [
    "grader.check(\"q3_1\")"
   ]
  },
  {
   "cell_type": "markdown",
   "id": "cell-hw01-24",
   "metadata": {},
   "source": [
    "**Question 2.** When you run the following cell, Python will produce another cryptic error message."
   ]
  },
  {
   "cell_type": "code",
   "execution_count": 37,
   "id": "cell-hw01-25",
   "metadata": {
    "tags": [
     "raises-exception"
    ]
   },
   "outputs": [
    {
     "ename": "SyntaxError",
     "evalue": "invalid syntax (3853341378.py, line 2)",
     "output_type": "error",
     "traceback": [
      "\u001b[1;36m  Cell \u001b[1;32mIn[37], line 2\u001b[1;36m\u001b[0m\n\u001b[1;33m    six = two plus two\u001b[0m\n\u001b[1;37m              ^\u001b[0m\n\u001b[1;31mSyntaxError\u001b[0m\u001b[1;31m:\u001b[0m invalid syntax\n"
     ]
    }
   ],
   "source": [
    "two = 3\n",
    "six = two plus two"
   ]
  },
  {
   "cell_type": "markdown",
   "id": "cell-hw01-26",
   "metadata": {
    "deletable": false,
    "editable": false
   },
   "source": [
    "Choose the best explanation of what's wrong with the code and assign 1, 2, 3, or 4 to `names_q2` below to indicate your answer. **(4 Points)**\n",
    "\n",
    "1. The `plus` operation only applies to numbers, not the word \"two\".\n",
    "\n",
    "2. The name \"two\" cannot be assigned to the number 3.\n",
    "\n",
    "3. Two plus two is four, not six.\n",
    "\n",
    "4. The name `plus` isn't a built-in operator; instead, addition uses `+`.\n"
   ]
  },
  {
   "cell_type": "code",
   "execution_count": 38,
   "id": "cell-hw01-27",
   "metadata": {
    "tags": []
   },
   "outputs": [],
   "source": [
    "names_q2 = 4"
   ]
  },
  {
   "cell_type": "code",
   "execution_count": 39,
   "id": "cell-hw01-28",
   "metadata": {
    "deletable": false,
    "editable": false
   },
   "outputs": [
    {
     "data": {
      "text/html": [
       "<p><strong><pre style='display: inline;'>q3_2</pre></strong> passed! 🎉</p>"
      ],
      "text/plain": [
       "q3_2 results: All test cases passed!"
      ]
     },
     "execution_count": 39,
     "metadata": {},
     "output_type": "execute_result"
    }
   ],
   "source": [
    "grader.check(\"q3_2\")"
   ]
  },
  {
   "cell_type": "markdown",
   "id": "cell-hw01-29",
   "metadata": {},
   "source": [
    "**Question 3.** Run the following cell."
   ]
  },
  {
   "cell_type": "code",
   "execution_count": 40,
   "id": "cell-hw01-30",
   "metadata": {
    "tags": [
     "raises-exception"
    ]
   },
   "outputs": [],
   "source": [
    "x = 2\n",
    "y = 3 * x\n",
    "x = 4"
   ]
  },
  {
   "cell_type": "markdown",
   "id": "cell-hw01-31",
   "metadata": {
    "deletable": false,
    "editable": false
   },
   "source": [
    "What is `y` after running this cell, and why? Choose the best explanation and assign 1, 2, 3, or 4 to `names_q3` below to indicate your answer. **(4 Points)**\n",
    "\n",
    "1. `y` is equal to 6, because the second `x = 4` has no effect since `x` was already defined.\n",
    "\n",
    "2. `y` is equal to 6, because `x` was 2 when `y` was assigned, and 3 * 2 is 6.\n",
    "\n",
    "3. `y` is equal to 12, because `x` is 4 and 3 * 4 is 12.\n",
    "\n",
    "4. `y` is equal to 12, because assigning `x` to 4 will update `y` to 12 since `y` was defined in terms of `x`.\n"
   ]
  },
  {
   "cell_type": "code",
   "execution_count": 41,
   "id": "cell-hw01-32",
   "metadata": {
    "tags": []
   },
   "outputs": [],
   "source": [
    "names_q3 = 2"
   ]
  },
  {
   "cell_type": "code",
   "execution_count": 42,
   "id": "cell-hw01-33",
   "metadata": {
    "deletable": false,
    "editable": false
   },
   "outputs": [
    {
     "data": {
      "text/html": [
       "<p><strong><pre style='display: inline;'>q3_3</pre></strong> passed! 🙌</p>"
      ],
      "text/plain": [
       "q3_3 results: All test cases passed!"
      ]
     },
     "execution_count": 42,
     "metadata": {},
     "output_type": "execute_result"
    }
   ],
   "source": [
    "grader.check(\"q3_3\")"
   ]
  },
  {
   "cell_type": "markdown",
   "id": "cell-hw01-34",
   "metadata": {},
   "source": [
    "## 4. Differences Between Majors"
   ]
  },
  {
   "cell_type": "markdown",
   "id": "cell-hw01-35",
   "metadata": {},
   "source": [
    "Berkeley’s Office of Planning and Analysis provides data on numerous aspects of the campus. Adapted from the OPA website, the table below displays the number of degree recipients in three majors in the 2008-2009 and 2017-2018 academic years.\n",
    "\n",
    "| Major                              | 2008-2009    | 2017-2018   |\n",
    "|------------------------------------|--------------|-------------|\n",
    "| Gender and Women's Studies         |      17      |    28       |\n",
    "| Linguistics                        |      49      |    67       |\n",
    "| Rhetoric                           |      113     |    56       |\n",
    "\n"
   ]
  },
  {
   "cell_type": "markdown",
   "id": "cell-hw01-36",
   "metadata": {
    "deletable": false,
    "editable": false
   },
   "source": [
    "**Question 1.** Suppose you want to find the **biggest** absolute difference between the number of degree recipients in the two years, among the three majors.\n",
    "\n",
    "In the cell below, compute this value and call it `biggest_change`. Use a single expression (a single line of code) to compute the answer. Let Python perform all the arithmetic (like subtracting 49 from 67) rather than simplifying the expression yourself. The built-in `abs` function takes a numerical input and returns the absolute value. The built-in `max` function can take in 3 arguments and returns the maximum of the three numbers. **(5 Points)**\n"
   ]
  },
  {
   "cell_type": "code",
   "execution_count": 43,
   "id": "cell-hw01-37",
   "metadata": {
    "deletable": false,
    "tags": []
   },
   "outputs": [
    {
     "data": {
      "text/plain": [
       "57"
      ]
     },
     "execution_count": 43,
     "metadata": {},
     "output_type": "execute_result"
    }
   ],
   "source": [
    "biggest_change = max(abs(17 - 28), abs(49-67), abs(113-56))\n",
    "biggest_change"
   ]
  },
  {
   "cell_type": "code",
   "execution_count": 44,
   "id": "cell-hw01-38",
   "metadata": {
    "deletable": false,
    "editable": false
   },
   "outputs": [
    {
     "data": {
      "text/html": [
       "<p><strong><pre style='display: inline;'>q4_1</pre></strong> passed! ✨</p>"
      ],
      "text/plain": [
       "q4_1 results: All test cases passed!"
      ]
     },
     "execution_count": 44,
     "metadata": {},
     "output_type": "execute_result"
    }
   ],
   "source": [
    "grader.check(\"q4_1\")"
   ]
  },
  {
   "cell_type": "markdown",
   "id": "cell-hw01-39",
   "metadata": {
    "deletable": false,
    "editable": false
   },
   "source": [
    "**Question 2.** Which of the three majors had the **smallest** absolute difference? Assign `smallest_change_major` to 1, 2, or 3 where each number corresponds to the following major:\n",
    "\n",
    "1. Gender and Women's Studies  \n",
    "2. Linguistics  \n",
    "3. Rhetoric\n",
    "\n",
    "Choose the number that corresponds to the major with the smallest absolute difference.\n",
    "\n",
    "You should be able to answer by rough mental arithmetic, without having to calculate the exact value for each major. **(4 Points)** \n"
   ]
  },
  {
   "cell_type": "code",
   "execution_count": 45,
   "id": "cell-hw01-40",
   "metadata": {
    "deletable": false,
    "tags": []
   },
   "outputs": [
    {
     "data": {
      "text/plain": [
       "1"
      ]
     },
     "execution_count": 45,
     "metadata": {},
     "output_type": "execute_result"
    }
   ],
   "source": [
    "smallest_change_major = 1\n",
    "smallest_change_major"
   ]
  },
  {
   "cell_type": "code",
   "execution_count": 46,
   "id": "cell-hw01-41",
   "metadata": {
    "deletable": false,
    "editable": false
   },
   "outputs": [
    {
     "data": {
      "text/html": [
       "<p><strong><pre style='display: inline;'>q4_2</pre></strong> passed! 💯</p>"
      ],
      "text/plain": [
       "q4_2 results: All test cases passed!"
      ]
     },
     "execution_count": 46,
     "metadata": {},
     "output_type": "execute_result"
    }
   ],
   "source": [
    "grader.check(\"q4_2\")"
   ]
  },
  {
   "cell_type": "markdown",
   "id": "cell-hw01-42",
   "metadata": {
    "deletable": false,
    "editable": false
   },
   "source": [
    "**Question 3.**  For each major, define the “relative change” to be the following: $\\large{\\frac{\\text{absolute difference}}{\\text{value in 2008-2009}} * 100}$ \n",
    "\n",
    "Fill in the code below such that `gws_relative_change`, `linguistics_relative_change` and `rhetoric_relative_change` are assigned to the relative changes for their respective majors. **(5 Points)**\n"
   ]
  },
  {
   "cell_type": "code",
   "execution_count": 47,
   "id": "cell-hw01-43",
   "metadata": {
    "deletable": false,
    "for_assignment_type": "student",
    "tags": []
   },
   "outputs": [
    {
     "data": {
      "text/plain": [
       "(64.70588235294117, 36.734693877551024, 50.442477876106196)"
      ]
     },
     "execution_count": 47,
     "metadata": {},
     "output_type": "execute_result"
    }
   ],
   "source": [
    "gws_relative_change = (abs(17-28) / 17) * 100\n",
    "linguistics_relative_change = (abs(49-67) / 49) * 100\n",
    "rhetoric_relative_change = (abs(113-56) / 113) * 100\n",
    "gws_relative_change, linguistics_relative_change, rhetoric_relative_change"
   ]
  },
  {
   "cell_type": "code",
   "execution_count": 48,
   "id": "cell-hw01-44",
   "metadata": {
    "deletable": false,
    "editable": false
   },
   "outputs": [
    {
     "data": {
      "text/html": [
       "<p><strong><pre style='display: inline;'>q4_3</pre></strong> passed! ✨</p>"
      ],
      "text/plain": [
       "q4_3 results: All test cases passed!"
      ]
     },
     "execution_count": 48,
     "metadata": {},
     "output_type": "execute_result"
    }
   ],
   "source": [
    "grader.check(\"q4_3\")"
   ]
  },
  {
   "cell_type": "markdown",
   "id": "cell-hw01-45",
   "metadata": {
    "deletable": false,
    "editable": false
   },
   "source": [
    "**Question 4.** Assign `biggest_rel_change_major` to 1, 2, or 3 where each number corresponds to to the following: \n",
    "\n",
    "1. Gender and Women's Studies  \n",
    "2. Linguistics  \n",
    "3. Rhetoric\n",
    "\n",
    "Choose the number that corresponds to the major with the biggest relative change. **(4 Points)**\n"
   ]
  },
  {
   "cell_type": "code",
   "execution_count": 49,
   "id": "cell-hw01-46",
   "metadata": {
    "deletable": false,
    "tags": []
   },
   "outputs": [
    {
     "data": {
      "text/plain": [
       "1"
      ]
     },
     "execution_count": 49,
     "metadata": {},
     "output_type": "execute_result"
    }
   ],
   "source": [
    "biggest_rel_change_major = 1\n",
    "biggest_rel_change_major"
   ]
  },
  {
   "cell_type": "code",
   "execution_count": 50,
   "id": "cell-hw01-47",
   "metadata": {
    "deletable": false,
    "editable": false
   },
   "outputs": [
    {
     "data": {
      "text/html": [
       "<p><strong><pre style='display: inline;'>q4_4</pre></strong> passed! 🎉</p>"
      ],
      "text/plain": [
       "q4_4 results: All test cases passed!"
      ]
     },
     "execution_count": 50,
     "metadata": {},
     "output_type": "execute_result"
    }
   ],
   "source": [
    "grader.check(\"q4_4\")"
   ]
  },
  {
   "cell_type": "markdown",
   "id": "cell-hw01-48",
   "metadata": {},
   "source": [
    "## 5. Nearsightedness Study"
   ]
  },
  {
   "cell_type": "markdown",
   "id": "cell-hw01-49",
   "metadata": {},
   "source": [
    "[Myopia](https://en.wikipedia.org/wiki/Myopia), or nearsightedness, results from a number of genetic and environmental factors. In 1999, Quinn et al studied the relation between myopia and ambient lighting at night (for example, from nightlights or room lights) during childhood."
   ]
  },
  {
   "cell_type": "markdown",
   "id": "cell-hw01-50",
   "metadata": {
    "deletable": false,
    "editable": false
   },
   "source": [
    "<!-- BEGIN QUESTION -->\n",
    "\n",
    "**Question 1.** The data were gathered by the following procedure, reported in the study. \"Between January and June 1998, parents of children aged 2-16 years [...] that were seen as outpatients in a university pediatric ophthalmology clinic completed a questionnaire on the child's light exposure both at present and before the age of 2 years.\" Was this study observational, or was it a controlled experiment? Explain. **(5 Points)**\n"
   ]
  },
  {
   "cell_type": "markdown",
   "id": "cell-hw01-51",
   "metadata": {},
   "source": [
    "observational"
   ]
  },
  {
   "cell_type": "markdown",
   "id": "cell-hw01-52",
   "metadata": {
    "deletable": false,
    "editable": false
   },
   "source": [
    "<!-- END QUESTION -->\n",
    "\n",
    "<!-- BEGIN QUESTION -->\n",
    "\n",
    "**Question 2.** The study found that of the children who slept with a room light on before the age of 2, 55% were myopic. Of the children who slept with a night light on before the age of 2, 34% were myopic. Of the children who slept in the dark before the age of 2, 10% were myopic. The study concluded the following: \"The prevalence of myopia [...] during childhood was strongly associated with ambient light exposure during sleep at night in the first two years after birth.\"\n",
    "\n",
    "Do the data support this statement? Why or why not? You may interpret \"strongly\" in any reasonable qualitative way. **(5 Points)**\n"
   ]
  },
  {
   "cell_type": "markdown",
   "id": "cell-hw01-53",
   "metadata": {},
   "source": [
    "strongly, "
   ]
  },
  {
   "cell_type": "markdown",
   "id": "cell-hw01-54",
   "metadata": {
    "deletable": false,
    "editable": false
   },
   "source": [
    "<!-- END QUESTION -->\n",
    "\n",
    "<!-- BEGIN QUESTION -->\n",
    "\n",
    "**Question 3.** On May 13, 1999, CNN reported the results of this study under the headline, \"Night light may lead to nearsightedness.\" Does the conclusion of the study claim that night light causes nearsightedness? **(5 Points)**\n"
   ]
  },
  {
   "cell_type": "markdown",
   "id": "cell-hw01-55",
   "metadata": {},
   "source": [
    "_Type your answer here, replacing this text._"
   ]
  },
  {
   "cell_type": "markdown",
   "id": "cell-hw01-56",
   "metadata": {
    "deletable": false,
    "editable": false
   },
   "source": [
    "<!-- END QUESTION -->\n",
    "\n",
    "<!-- BEGIN QUESTION -->\n",
    "\n",
    "**Question 4.** The final paragraph of the CNN report said that \"several eye specialists\" had pointed out that the study should have accounted for heredity.\n",
    "\n",
    "Myopia is passed down from parents to children. Myopic parents are more likely to have myopic children, and may also be more likely to leave lights on habitually (since the parents have poor vision). In what way does the knowledge of this possible genetic link affect how we interpret the data from the study? Explain. **(5 Points)**\n"
   ]
  },
  {
   "cell_type": "markdown",
   "id": "cell-hw01-57",
   "metadata": {},
   "source": [
    "_Type your answer here, replacing this text._"
   ]
  },
  {
   "cell_type": "markdown",
   "id": "cell-hw01-58",
   "metadata": {
    "deletable": false,
    "editable": false
   },
   "source": [
    "<!-- END QUESTION -->\n",
    "\n",
    "## 6. Studying the Survivors"
   ]
  },
  {
   "cell_type": "markdown",
   "id": "cell-hw01-59",
   "metadata": {
    "deletable": false,
    "editable": false
   },
   "source": [
    "The Reverend Henry Whitehead was skeptical of John Snow’s conclusion about the Broad Street pump. After the Broad Street cholera epidemic ended, Whitehead set about trying to prove Snow wrong.  (The history of the event is detailed [here](http://www.ncbi.nlm.nih.gov/pmc/articles/PMC1034367/pdf/medhist00183-0026.pdf).)\n",
    "\n",
    "He realized that Snow had focused his analysis almost entirely on those who had died. Whitehead, therefore, investigated the drinking habits of people in the Broad Street area who had not died in the outbreak.\n",
    "\n",
    "What is the main reason it was important to study this group? Assign either 1, 2, or 3 to the name `survivor_answer` below. **(4 Points)**\n",
    "\n",
    "1. If Whitehead had found that many people had drunk water from the Broad Street pump and not caught cholera, that would have been evidence against Snow's hypothesis.\n",
    "\n",
    "2. Survivors could provide additional information about what else could have caused the cholera, potentially unearthing another cause.\n",
    "\n",
    "3. Through considering the survivors, Whitehead could have identified a cure for cholera.\n"
   ]
  },
  {
   "cell_type": "code",
   "execution_count": 51,
   "id": "cell-hw01-60",
   "metadata": {
    "deletable": false,
    "tags": []
   },
   "outputs": [],
   "source": [
    "survivor_answer = 1"
   ]
  },
  {
   "cell_type": "code",
   "execution_count": 52,
   "id": "cell-hw01-61",
   "metadata": {
    "deletable": false,
    "editable": false
   },
   "outputs": [
    {
     "data": {
      "text/html": [
       "<p><strong><pre style='display: inline;'>q6_1</pre></strong> passed! 🙌</p>"
      ],
      "text/plain": [
       "q6_1 results: All test cases passed!"
      ]
     },
     "execution_count": 52,
     "metadata": {},
     "output_type": "execute_result"
    }
   ],
   "source": [
    "grader.check(\"q6_1\")"
   ]
  },
  {
   "cell_type": "markdown",
   "id": "cell-hw01-62",
   "metadata": {},
   "source": [
    "**Note:** Whitehead ended up finding further proof that the Broad Street pump played a central role in spreading the disease to the people who lived near it. Eventually, he became one of Snow’s greatest defenders."
   ]
  },
  {
   "cell_type": "markdown",
   "id": "cell-hw01-63",
   "metadata": {},
   "source": [
    "You're done with Homework 1!  \n",
    "\n",
    "**Important submission steps:** \n",
    "1. Run the tests and verify that they all pass.\n",
    "2. Choose **Save Notebook** from the **File** menu, then **run the final cell**. \n",
    "3. Click the link to download the zip file.\n",
    "4. Then submit the zip file to the corresponding assignment according to your instructor's directions. \n",
    "\n",
    "**It is your responsibility to make sure your work is saved before running the last cell.**\n"
   ]
  },
  {
   "cell_type": "markdown",
   "id": "cell-hw01-64",
   "metadata": {
    "deletable": false,
    "editable": false
   },
   "source": [
    "## Submission\n",
    "\n",
    "Make sure you have run all cells in your notebook in order before running the cell below, so that all images/graphs appear in the output. The cell below will generate a zip file for you to submit. **Please save before exporting!**"
   ]
  },
  {
   "cell_type": "code",
   "execution_count": 53,
   "id": "cell-hw01-65",
   "metadata": {
    "deletable": false,
    "editable": false
   },
   "outputs": [
    {
     "name": "stderr",
     "output_type": "stream",
     "text": [
      "c:\\Users\\default.LAPTOP-PTP9VI01\\anaconda3\\envs\\datascience\\lib\\site-packages\\otter\\check\\notebook.py:493: UserWarning: Could not locate a PDF to include\n",
      "  warnings.warn(\"Could not locate a PDF to include\")\n"
     ]
    },
    {
     "ename": "PandocMissing",
     "evalue": "Pandoc wasn't found.\nPlease check that pandoc is installed:\nhttps://pandoc.org/installing.html",
     "output_type": "error",
     "traceback": [
      "\u001b[1;31m---------------------------------------------------------------------------\u001b[0m",
      "\u001b[1;31mPandocMissing\u001b[0m                             Traceback (most recent call last)",
      "Cell \u001b[1;32mIn[53], line 2\u001b[0m\n\u001b[0;32m      1\u001b[0m \u001b[38;5;66;03m# Save your notebook first, then run this cell to export your submission.\u001b[39;00m\n\u001b[1;32m----> 2\u001b[0m \u001b[43mgrader\u001b[49m\u001b[38;5;241;43m.\u001b[39;49m\u001b[43mexport\u001b[49m\u001b[43m(\u001b[49m\u001b[43mrun_tests\u001b[49m\u001b[38;5;241;43m=\u001b[39;49m\u001b[38;5;28;43;01mTrue\u001b[39;49;00m\u001b[43m)\u001b[49m\n",
      "File \u001b[1;32mc:\\Users\\default.LAPTOP-PTP9VI01\\anaconda3\\envs\\datascience\\lib\\site-packages\\otter\\check\\utils.py:206\u001b[0m, in \u001b[0;36mgrading_mode_disabled\u001b[1;34m(wrapped, self, args, kwargs)\u001b[0m\n\u001b[0;32m    204\u001b[0m \u001b[38;5;28;01mif\u001b[39;00m \u001b[38;5;28mtype\u001b[39m(\u001b[38;5;28mself\u001b[39m)\u001b[38;5;241m.\u001b[39m_grading_mode:\n\u001b[0;32m    205\u001b[0m     \u001b[38;5;28;01mreturn\u001b[39;00m\n\u001b[1;32m--> 206\u001b[0m \u001b[38;5;28;01mreturn\u001b[39;00m wrapped(\u001b[38;5;241m*\u001b[39margs, \u001b[38;5;241m*\u001b[39m\u001b[38;5;241m*\u001b[39mkwargs)\n",
      "File \u001b[1;32mc:\\Users\\default.LAPTOP-PTP9VI01\\anaconda3\\envs\\datascience\\lib\\site-packages\\otter\\check\\utils.py:188\u001b[0m, in \u001b[0;36mincompatible_with.<locals>.incompatible\u001b[1;34m(wrapped, self, args, kwargs)\u001b[0m\n\u001b[0;32m    186\u001b[0m     \u001b[38;5;28;01melse\u001b[39;00m:\n\u001b[0;32m    187\u001b[0m         \u001b[38;5;28;01mreturn\u001b[39;00m\n\u001b[1;32m--> 188\u001b[0m \u001b[38;5;28;01mreturn\u001b[39;00m wrapped(\u001b[38;5;241m*\u001b[39margs, \u001b[38;5;241m*\u001b[39m\u001b[38;5;241m*\u001b[39mkwargs)\n",
      "File \u001b[1;32mc:\\Users\\default.LAPTOP-PTP9VI01\\anaconda3\\envs\\datascience\\lib\\site-packages\\otter\\check\\utils.py:242\u001b[0m, in \u001b[0;36mlogs_event.<locals>.event_logger\u001b[1;34m(wrapped, self, args, kwargs)\u001b[0m\n\u001b[0;32m    240\u001b[0m \u001b[38;5;28;01mexcept\u001b[39;00m \u001b[38;5;167;01mException\u001b[39;00m \u001b[38;5;28;01mas\u001b[39;00m e:\n\u001b[0;32m    241\u001b[0m     \u001b[38;5;28mself\u001b[39m\u001b[38;5;241m.\u001b[39m_log_event(event_type, success\u001b[38;5;241m=\u001b[39m\u001b[38;5;28;01mFalse\u001b[39;00m, error\u001b[38;5;241m=\u001b[39me)\n\u001b[1;32m--> 242\u001b[0m     \u001b[38;5;28;01mraise\u001b[39;00m e\n\u001b[0;32m    244\u001b[0m \u001b[38;5;28;01mif\u001b[39;00m ret \u001b[38;5;129;01mis\u001b[39;00m \u001b[38;5;28;01mNone\u001b[39;00m:\n\u001b[0;32m    245\u001b[0m     ret \u001b[38;5;241m=\u001b[39m LoggedEventReturnValue(\u001b[38;5;28;01mNone\u001b[39;00m)\n",
      "File \u001b[1;32mc:\\Users\\default.LAPTOP-PTP9VI01\\anaconda3\\envs\\datascience\\lib\\site-packages\\otter\\check\\utils.py:238\u001b[0m, in \u001b[0;36mlogs_event.<locals>.event_logger\u001b[1;34m(wrapped, self, args, kwargs)\u001b[0m\n\u001b[0;32m    233\u001b[0m \u001b[38;5;250m\u001b[39m\u001b[38;5;124;03m\"\"\"\u001b[39;00m\n\u001b[0;32m    234\u001b[0m \u001b[38;5;124;03mRuns a method, catching any errors and logging the call. Returns the unwrapped return value\u001b[39;00m\n\u001b[0;32m    235\u001b[0m \u001b[38;5;124;03mof the wrapped function.\u001b[39;00m\n\u001b[0;32m    236\u001b[0m \u001b[38;5;124;03m\"\"\"\u001b[39;00m\n\u001b[0;32m    237\u001b[0m \u001b[38;5;28;01mtry\u001b[39;00m:\n\u001b[1;32m--> 238\u001b[0m     ret: Optional[LoggedEventReturnValue[T]] \u001b[38;5;241m=\u001b[39m wrapped(\u001b[38;5;241m*\u001b[39margs, \u001b[38;5;241m*\u001b[39m\u001b[38;5;241m*\u001b[39mkwargs)\n\u001b[0;32m    240\u001b[0m \u001b[38;5;28;01mexcept\u001b[39;00m \u001b[38;5;167;01mException\u001b[39;00m \u001b[38;5;28;01mas\u001b[39;00m e:\n\u001b[0;32m    241\u001b[0m     \u001b[38;5;28mself\u001b[39m\u001b[38;5;241m.\u001b[39m_log_event(event_type, success\u001b[38;5;241m=\u001b[39m\u001b[38;5;28;01mFalse\u001b[39;00m, error\u001b[38;5;241m=\u001b[39me)\n",
      "File \u001b[1;32mc:\\Users\\default.LAPTOP-PTP9VI01\\anaconda3\\envs\\datascience\\lib\\site-packages\\otter\\check\\notebook.py:550\u001b[0m, in \u001b[0;36mNotebook.export\u001b[1;34m(self, nb_path, export_path, pdf, filtering, pagebreaks, files, display_link, force_save, run_tests, ignore_log)\u001b[0m\n\u001b[0;32m    548\u001b[0m \u001b[38;5;28;01mif\u001b[39;00m pdf_created \u001b[38;5;129;01mor\u001b[39;00m \u001b[38;5;129;01mnot\u001b[39;00m \u001b[38;5;28mself\u001b[39m\u001b[38;5;241m.\u001b[39m_nbmeta_config\u001b[38;5;241m.\u001b[39mrequire_no_pdf_confirmation:\n\u001b[0;32m    549\u001b[0m     \u001b[38;5;28;01mif\u001b[39;00m pdf_error \u001b[38;5;129;01mis\u001b[39;00m \u001b[38;5;129;01mnot\u001b[39;00m \u001b[38;5;28;01mNone\u001b[39;00m:\n\u001b[1;32m--> 550\u001b[0m         \u001b[38;5;28;01mraise\u001b[39;00m pdf_error\n\u001b[0;32m    551\u001b[0m     continue_export()\n\u001b[0;32m    552\u001b[0m \u001b[38;5;28;01melse\u001b[39;00m:\n",
      "File \u001b[1;32mc:\\Users\\default.LAPTOP-PTP9VI01\\anaconda3\\envs\\datascience\\lib\\site-packages\\otter\\check\\notebook.py:484\u001b[0m, in \u001b[0;36mNotebook.export\u001b[1;34m(self, nb_path, export_path, pdf, filtering, pagebreaks, files, display_link, force_save, run_tests, ignore_log)\u001b[0m\n\u001b[0;32m    482\u001b[0m \u001b[38;5;28;01mif\u001b[39;00m pdf:\n\u001b[0;32m    483\u001b[0m     \u001b[38;5;28;01mtry\u001b[39;00m:\n\u001b[1;32m--> 484\u001b[0m         pdf_path \u001b[38;5;241m=\u001b[39m \u001b[43mexport_notebook\u001b[49m\u001b[43m(\u001b[49m\u001b[43mnb_path\u001b[49m\u001b[43m,\u001b[49m\u001b[43m \u001b[49m\u001b[43mfiltering\u001b[49m\u001b[38;5;241;43m=\u001b[39;49m\u001b[43mfiltering\u001b[49m\u001b[43m,\u001b[49m\u001b[43m \u001b[49m\u001b[43mpagebreaks\u001b[49m\u001b[38;5;241;43m=\u001b[39;49m\u001b[43mpagebreaks\u001b[49m\u001b[43m)\u001b[49m\n\u001b[0;32m    485\u001b[0m     \u001b[38;5;28;01mexcept\u001b[39;00m \u001b[38;5;167;01mException\u001b[39;00m \u001b[38;5;28;01mas\u001b[39;00m e:\n\u001b[0;32m    486\u001b[0m         pdf_error \u001b[38;5;241m=\u001b[39m e\n",
      "File \u001b[1;32mc:\\Users\\default.LAPTOP-PTP9VI01\\anaconda3\\envs\\datascience\\lib\\site-packages\\otter\\export\\__init__.py:43\u001b[0m, in \u001b[0;36mexport_notebook\u001b[1;34m(nb_path, dest, exporter_type, **kwargs)\u001b[0m\n\u001b[0;32m     40\u001b[0m     pdf_name \u001b[38;5;241m=\u001b[39m os\u001b[38;5;241m.\u001b[39mpath\u001b[38;5;241m.\u001b[39msplitext(nb_path)[\u001b[38;5;241m0\u001b[39m] \u001b[38;5;241m+\u001b[39m \u001b[38;5;124m\"\u001b[39m\u001b[38;5;124m.pdf\u001b[39m\u001b[38;5;124m\"\u001b[39m\n\u001b[0;32m     42\u001b[0m Exporter \u001b[38;5;241m=\u001b[39m get_exporter(exporter_type\u001b[38;5;241m=\u001b[39mexporter_type)\n\u001b[1;32m---> 43\u001b[0m Exporter\u001b[38;5;241m.\u001b[39mconvert_notebook(nb_path, pdf_name, \u001b[38;5;241m*\u001b[39m\u001b[38;5;241m*\u001b[39mkwargs)\n\u001b[0;32m     45\u001b[0m \u001b[38;5;28;01mreturn\u001b[39;00m pdf_name\n",
      "File \u001b[1;32mc:\\Users\\default.LAPTOP-PTP9VI01\\anaconda3\\envs\\datascience\\lib\\site-packages\\otter\\export\\exporters\\via_latex.py:71\u001b[0m, in \u001b[0;36mPDFViaLatexExporter.convert_notebook\u001b[1;34m(cls, nb_path, dest, xecjk, **kwargs)\u001b[0m\n\u001b[0;32m     68\u001b[0m     \u001b[38;5;28;01mwith\u001b[39;00m \u001b[38;5;28mopen\u001b[39m(os\u001b[38;5;241m.\u001b[39mpath\u001b[38;5;241m.\u001b[39msplitext(dest)[\u001b[38;5;241m0\u001b[39m] \u001b[38;5;241m+\u001b[39m \u001b[38;5;124m\"\u001b[39m\u001b[38;5;124m.tex\u001b[39m\u001b[38;5;124m\"\u001b[39m, \u001b[38;5;124m\"\u001b[39m\u001b[38;5;124mw+\u001b[39m\u001b[38;5;124m\"\u001b[39m) \u001b[38;5;28;01mas\u001b[39;00m output_file:\n\u001b[0;32m     69\u001b[0m         output_file\u001b[38;5;241m.\u001b[39mwrite(latex_output[\u001b[38;5;241m0\u001b[39m])\n\u001b[1;32m---> 71\u001b[0m pdf_output \u001b[38;5;241m=\u001b[39m \u001b[43mnbconvert\u001b[49m\u001b[38;5;241;43m.\u001b[39;49m\u001b[43mexport\u001b[49m\u001b[43m(\u001b[49m\u001b[43mpdf_exporter\u001b[49m\u001b[43m,\u001b[49m\u001b[43m \u001b[49m\u001b[43mnb\u001b[49m\u001b[43m)\u001b[49m\n\u001b[0;32m     72\u001b[0m \u001b[38;5;28;01mwith\u001b[39;00m \u001b[38;5;28mopen\u001b[39m(dest, \u001b[38;5;124m\"\u001b[39m\u001b[38;5;124mwb\u001b[39m\u001b[38;5;124m\"\u001b[39m) \u001b[38;5;28;01mas\u001b[39;00m output_file:\n\u001b[0;32m     73\u001b[0m     output_file\u001b[38;5;241m.\u001b[39mwrite(pdf_output[\u001b[38;5;241m0\u001b[39m])\n",
      "File \u001b[1;32mc:\\Users\\default.LAPTOP-PTP9VI01\\anaconda3\\envs\\datascience\\lib\\site-packages\\nbconvert\\exporters\\base.py:86\u001b[0m, in \u001b[0;36mexport\u001b[1;34m(exporter, nb, **kw)\u001b[0m\n\u001b[0;32m     84\u001b[0m \u001b[38;5;66;03m# Try to convert the notebook using the appropriate conversion function.\u001b[39;00m\n\u001b[0;32m     85\u001b[0m \u001b[38;5;28;01mif\u001b[39;00m \u001b[38;5;28misinstance\u001b[39m(nb, NotebookNode):\n\u001b[1;32m---> 86\u001b[0m     output, resources \u001b[38;5;241m=\u001b[39m \u001b[43mexporter_instance\u001b[49m\u001b[38;5;241;43m.\u001b[39;49m\u001b[43mfrom_notebook_node\u001b[49m\u001b[43m(\u001b[49m\u001b[43mnb\u001b[49m\u001b[43m,\u001b[49m\u001b[43m \u001b[49m\u001b[43mresources\u001b[49m\u001b[43m)\u001b[49m\n\u001b[0;32m     87\u001b[0m \u001b[38;5;28;01melif\u001b[39;00m \u001b[38;5;28misinstance\u001b[39m(nb, (\u001b[38;5;28mstr\u001b[39m,)):\n\u001b[0;32m     88\u001b[0m     output, resources \u001b[38;5;241m=\u001b[39m exporter_instance\u001b[38;5;241m.\u001b[39mfrom_filename(nb, resources)\n",
      "File \u001b[1;32mc:\\Users\\default.LAPTOP-PTP9VI01\\anaconda3\\envs\\datascience\\lib\\site-packages\\nbconvert\\exporters\\pdf.py:184\u001b[0m, in \u001b[0;36mPDFExporter.from_notebook_node\u001b[1;34m(self, nb, resources, **kw)\u001b[0m\n\u001b[0;32m    182\u001b[0m \u001b[38;5;28;01mdef\u001b[39;00m\u001b[38;5;250m \u001b[39m\u001b[38;5;21mfrom_notebook_node\u001b[39m(\u001b[38;5;28mself\u001b[39m, nb, resources\u001b[38;5;241m=\u001b[39m\u001b[38;5;28;01mNone\u001b[39;00m, \u001b[38;5;241m*\u001b[39m\u001b[38;5;241m*\u001b[39mkw):\n\u001b[0;32m    183\u001b[0m \u001b[38;5;250m    \u001b[39m\u001b[38;5;124;03m\"\"\"Convert from notebook node.\"\"\"\u001b[39;00m\n\u001b[1;32m--> 184\u001b[0m     latex, resources \u001b[38;5;241m=\u001b[39m \u001b[38;5;28msuper\u001b[39m()\u001b[38;5;241m.\u001b[39mfrom_notebook_node(nb, resources\u001b[38;5;241m=\u001b[39mresources, \u001b[38;5;241m*\u001b[39m\u001b[38;5;241m*\u001b[39mkw)\n\u001b[0;32m    185\u001b[0m     \u001b[38;5;66;03m# set texinputs directory, so that local files will be found\u001b[39;00m\n\u001b[0;32m    186\u001b[0m     \u001b[38;5;28;01mif\u001b[39;00m resources \u001b[38;5;129;01mand\u001b[39;00m resources\u001b[38;5;241m.\u001b[39mget(\u001b[38;5;124m\"\u001b[39m\u001b[38;5;124mmetadata\u001b[39m\u001b[38;5;124m\"\u001b[39m, {})\u001b[38;5;241m.\u001b[39mget(\u001b[38;5;124m\"\u001b[39m\u001b[38;5;124mpath\u001b[39m\u001b[38;5;124m\"\u001b[39m):\n",
      "File \u001b[1;32mc:\\Users\\default.LAPTOP-PTP9VI01\\anaconda3\\envs\\datascience\\lib\\site-packages\\nbconvert\\exporters\\latex.py:92\u001b[0m, in \u001b[0;36mLatexExporter.from_notebook_node\u001b[1;34m(self, nb, resources, **kw)\u001b[0m\n\u001b[0;32m     86\u001b[0m convert_explicitly_relative_paths \u001b[38;5;241m=\u001b[39m \u001b[38;5;28mself\u001b[39m\u001b[38;5;241m.\u001b[39mfilters\u001b[38;5;241m.\u001b[39mget(\n\u001b[0;32m     87\u001b[0m     \u001b[38;5;124m\"\u001b[39m\u001b[38;5;124mconvert_explicitly_relative_paths\u001b[39m\u001b[38;5;124m\"\u001b[39m,\n\u001b[0;32m     88\u001b[0m     ConvertExplicitlyRelativePaths(texinputs\u001b[38;5;241m=\u001b[39mtexinputs, parent\u001b[38;5;241m=\u001b[39m\u001b[38;5;28mself\u001b[39m),\n\u001b[0;32m     89\u001b[0m )\n\u001b[0;32m     90\u001b[0m \u001b[38;5;28mself\u001b[39m\u001b[38;5;241m.\u001b[39mregister_filter(\u001b[38;5;124m\"\u001b[39m\u001b[38;5;124mconvert_explicitly_relative_paths\u001b[39m\u001b[38;5;124m\"\u001b[39m, convert_explicitly_relative_paths)\n\u001b[1;32m---> 92\u001b[0m \u001b[38;5;28;01mreturn\u001b[39;00m \u001b[38;5;28msuper\u001b[39m()\u001b[38;5;241m.\u001b[39mfrom_notebook_node(nb, resources, \u001b[38;5;241m*\u001b[39m\u001b[38;5;241m*\u001b[39mkw)\n",
      "File \u001b[1;32mc:\\Users\\default.LAPTOP-PTP9VI01\\anaconda3\\envs\\datascience\\lib\\site-packages\\nbconvert\\exporters\\templateexporter.py:424\u001b[0m, in \u001b[0;36mTemplateExporter.from_notebook_node\u001b[1;34m(self, nb, resources, **kw)\u001b[0m\n\u001b[0;32m    410\u001b[0m resources[\u001b[38;5;124m\"\u001b[39m\u001b[38;5;124mglobal_content_filter\u001b[39m\u001b[38;5;124m\"\u001b[39m] \u001b[38;5;241m=\u001b[39m {\n\u001b[0;32m    411\u001b[0m     \u001b[38;5;124m\"\u001b[39m\u001b[38;5;124minclude_code\u001b[39m\u001b[38;5;124m\"\u001b[39m: \u001b[38;5;129;01mnot\u001b[39;00m \u001b[38;5;28mself\u001b[39m\u001b[38;5;241m.\u001b[39mexclude_code_cell,\n\u001b[0;32m    412\u001b[0m     \u001b[38;5;124m\"\u001b[39m\u001b[38;5;124minclude_markdown\u001b[39m\u001b[38;5;124m\"\u001b[39m: \u001b[38;5;129;01mnot\u001b[39;00m \u001b[38;5;28mself\u001b[39m\u001b[38;5;241m.\u001b[39mexclude_markdown,\n\u001b[1;32m   (...)\u001b[0m\n\u001b[0;32m    420\u001b[0m     \u001b[38;5;124m\"\u001b[39m\u001b[38;5;124mno_prompt\u001b[39m\u001b[38;5;124m\"\u001b[39m: \u001b[38;5;28mself\u001b[39m\u001b[38;5;241m.\u001b[39mexclude_input_prompt \u001b[38;5;129;01mand\u001b[39;00m \u001b[38;5;28mself\u001b[39m\u001b[38;5;241m.\u001b[39mexclude_output_prompt,\n\u001b[0;32m    421\u001b[0m }\n\u001b[0;32m    423\u001b[0m \u001b[38;5;66;03m# Top level variables are passed to the template_exporter here.\u001b[39;00m\n\u001b[1;32m--> 424\u001b[0m output \u001b[38;5;241m=\u001b[39m \u001b[38;5;28;43mself\u001b[39;49m\u001b[38;5;241;43m.\u001b[39;49m\u001b[43mtemplate\u001b[49m\u001b[38;5;241;43m.\u001b[39;49m\u001b[43mrender\u001b[49m\u001b[43m(\u001b[49m\u001b[43mnb\u001b[49m\u001b[38;5;241;43m=\u001b[39;49m\u001b[43mnb_copy\u001b[49m\u001b[43m,\u001b[49m\u001b[43m \u001b[49m\u001b[43mresources\u001b[49m\u001b[38;5;241;43m=\u001b[39;49m\u001b[43mresources\u001b[49m\u001b[43m)\u001b[49m\n\u001b[0;32m    425\u001b[0m output \u001b[38;5;241m=\u001b[39m output\u001b[38;5;241m.\u001b[39mlstrip(\u001b[38;5;124m\"\u001b[39m\u001b[38;5;130;01m\\r\u001b[39;00m\u001b[38;5;130;01m\\n\u001b[39;00m\u001b[38;5;124m\"\u001b[39m)\n\u001b[0;32m    426\u001b[0m \u001b[38;5;28;01mreturn\u001b[39;00m output, resources\n",
      "File \u001b[1;32mc:\\Users\\default.LAPTOP-PTP9VI01\\anaconda3\\envs\\datascience\\lib\\site-packages\\jinja2\\environment.py:1295\u001b[0m, in \u001b[0;36mTemplate.render\u001b[1;34m(self, *args, **kwargs)\u001b[0m\n\u001b[0;32m   1293\u001b[0m     \u001b[38;5;28;01mreturn\u001b[39;00m \u001b[38;5;28mself\u001b[39m\u001b[38;5;241m.\u001b[39menvironment\u001b[38;5;241m.\u001b[39mconcat(\u001b[38;5;28mself\u001b[39m\u001b[38;5;241m.\u001b[39mroot_render_func(ctx))  \u001b[38;5;66;03m# type: ignore\u001b[39;00m\n\u001b[0;32m   1294\u001b[0m \u001b[38;5;28;01mexcept\u001b[39;00m \u001b[38;5;167;01mException\u001b[39;00m:\n\u001b[1;32m-> 1295\u001b[0m     \u001b[38;5;28;43mself\u001b[39;49m\u001b[38;5;241;43m.\u001b[39;49m\u001b[43menvironment\u001b[49m\u001b[38;5;241;43m.\u001b[39;49m\u001b[43mhandle_exception\u001b[49m\u001b[43m(\u001b[49m\u001b[43m)\u001b[49m\n",
      "File \u001b[1;32mc:\\Users\\default.LAPTOP-PTP9VI01\\anaconda3\\envs\\datascience\\lib\\site-packages\\jinja2\\environment.py:942\u001b[0m, in \u001b[0;36mEnvironment.handle_exception\u001b[1;34m(self, source)\u001b[0m\n\u001b[0;32m    937\u001b[0m \u001b[38;5;250m\u001b[39m\u001b[38;5;124;03m\"\"\"Exception handling helper.  This is used internally to either raise\u001b[39;00m\n\u001b[0;32m    938\u001b[0m \u001b[38;5;124;03mrewritten exceptions or return a rendered traceback for the template.\u001b[39;00m\n\u001b[0;32m    939\u001b[0m \u001b[38;5;124;03m\"\"\"\u001b[39;00m\n\u001b[0;32m    940\u001b[0m \u001b[38;5;28;01mfrom\u001b[39;00m\u001b[38;5;250m \u001b[39m\u001b[38;5;21;01m.\u001b[39;00m\u001b[38;5;21;01mdebug\u001b[39;00m\u001b[38;5;250m \u001b[39m\u001b[38;5;28;01mimport\u001b[39;00m rewrite_traceback_stack\n\u001b[1;32m--> 942\u001b[0m \u001b[38;5;28;01mraise\u001b[39;00m rewrite_traceback_stack(source\u001b[38;5;241m=\u001b[39msource)\n",
      "File \u001b[1;32mc:\\Users\\default.LAPTOP-PTP9VI01\\anaconda3\\envs\\datascience\\lib\\site-packages\\otter\\export\\exporters\\templates\\via_latex\\index.tex.j2:7\u001b[0m, in \u001b[0;36mtop-level template code\u001b[1;34m()\u001b[0m\n\u001b[0;32m      5\u001b[0m \n\u001b[0;32m      6\u001b[0m % Inherit from the specified cell style.\n\u001b[1;32m----> 7\u001b[0m ((* extends cell_style *))\n\u001b[0;32m      8\u001b[0m \n\u001b[0;32m      9\u001b[0m \n",
      "File \u001b[1;32mc:\\Users\\default.LAPTOP-PTP9VI01\\anaconda3\\envs\\datascience\\share\\jupyter\\nbconvert\\templates\\latex\\style_ipython.tex.j2:68\u001b[0m, in \u001b[0;36mtop-level template code\u001b[1;34m()\u001b[0m\n\u001b[0;32m     66\u001b[0m     ((*- set indention =  \" \" * (execution_count | length + 7) -*))\n\u001b[0;32m     67\u001b[0m \\begin{Verbatim}[commandchars=\\\\\\{\\}]\n\u001b[1;32m---> 68\u001b[0m ((( text | add_prompts(first='{\\\\color{' ~ prompt_color ~ '}' ~ prompt ~ '[{\\\\color{' ~ prompt_color ~ '}' ~ execution_count ~ '}]:} ', cont=indention) )))\n\u001b[0;32m     69\u001b[0m \\end{Verbatim}\n\u001b[0;32m     70\u001b[0m ((*- endmacro *))\n",
      "File \u001b[1;32mc:\\Users\\default.LAPTOP-PTP9VI01\\anaconda3\\envs\\datascience\\share\\jupyter\\nbconvert\\templates\\latex\\base.tex.j2:7\u001b[0m, in \u001b[0;36mtop-level template code\u001b[1;34m()\u001b[0m\n\u001b[0;32m      5\u001b[0m override this.-=))\n\u001b[0;32m      6\u001b[0m \n\u001b[1;32m----> 7\u001b[0m ((*- extends 'document_contents.tex.j2' -*))\n\u001b[0;32m      8\u001b[0m \n\u001b[0;32m      9\u001b[0m %===============================================================================\n",
      "File \u001b[1;32mc:\\Users\\default.LAPTOP-PTP9VI01\\anaconda3\\envs\\datascience\\share\\jupyter\\nbconvert\\templates\\latex\\document_contents.tex.j2:51\u001b[0m, in \u001b[0;36mtop-level template code\u001b[1;34m()\u001b[0m\n\u001b[0;32m     49\u001b[0m ((* macro draw_figure(filename) -*))\n\u001b[0;32m     50\u001b[0m ((* set filename = filename | posix_path *))\n\u001b[1;32m---> 51\u001b[0m ((*- block figure scoped -*))\n\u001b[0;32m     52\u001b[0m     \\begin{center}\n\u001b[0;32m     53\u001b[0m     \\adjustimage{max size={0.9\\linewidth}{0.9\\paperheight}}{((( filename )))}\n",
      "File \u001b[1;32mc:\\Users\\default.LAPTOP-PTP9VI01\\anaconda3\\envs\\datascience\\share\\jupyter\\nbconvert\\templates\\latex\\display_priority.j2:5\u001b[0m, in \u001b[0;36mtop-level template code\u001b[1;34m()\u001b[0m\n\u001b[0;32m      3\u001b[0m \n\u001b[0;32m      4\u001b[0m \n\u001b[1;32m----> 5\u001b[0m ((*- extends 'null.j2' -*))\n\u001b[0;32m      6\u001b[0m \n\u001b[0;32m      7\u001b[0m ((=display data priority=))\n",
      "File \u001b[1;32mc:\\Users\\default.LAPTOP-PTP9VI01\\anaconda3\\envs\\datascience\\share\\jupyter\\nbconvert\\templates\\latex\\null.j2:30\u001b[0m, in \u001b[0;36mtop-level template code\u001b[1;34m()\u001b[0m\n\u001b[0;32m     28\u001b[0m ((*- block header -*))\n\u001b[0;32m     29\u001b[0m ((*- endblock header -*))\n\u001b[1;32m---> 30\u001b[0m ((*- block body -*))\n\u001b[0;32m     31\u001b[0m ((*- for cell in nb.cells -*))\n\u001b[0;32m     32\u001b[0m     ((*- block any_cell scoped -*))\n",
      "File \u001b[1;32mc:\\Users\\default.LAPTOP-PTP9VI01\\anaconda3\\envs\\datascience\\share\\jupyter\\nbconvert\\templates\\latex\\base.tex.j2:222\u001b[0m, in \u001b[0;36mblock 'body'\u001b[1;34m()\u001b[0m\n\u001b[0;32m    220\u001b[0m ((* endblock predoc *))\n\u001b[0;32m    221\u001b[0m \n\u001b[1;32m--> 222\u001b[0m ((( super() )))\n\u001b[0;32m    223\u001b[0m \n\u001b[0;32m    224\u001b[0m % Add a bibliography block to the postdoc\n",
      "File \u001b[1;32mc:\\Users\\default.LAPTOP-PTP9VI01\\anaconda3\\envs\\datascience\\share\\jupyter\\nbconvert\\templates\\latex\\null.j2:32\u001b[0m, in \u001b[0;36mblock 'body'\u001b[1;34m()\u001b[0m\n\u001b[0;32m     30\u001b[0m ((*- block body -*))\n\u001b[0;32m     31\u001b[0m ((*- for cell in nb.cells -*))\n\u001b[1;32m---> 32\u001b[0m     ((*- block any_cell scoped -*))\n\u001b[0;32m     33\u001b[0m         ((*- if cell.cell_type == 'code'-*))\n\u001b[0;32m     34\u001b[0m             ((*- if resources.global_content_filter.include_code -*))\n",
      "File \u001b[1;32mc:\\Users\\default.LAPTOP-PTP9VI01\\anaconda3\\envs\\datascience\\share\\jupyter\\nbconvert\\templates\\latex\\null.j2:85\u001b[0m, in \u001b[0;36mblock 'any_cell'\u001b[1;34m()\u001b[0m\n\u001b[0;32m     83\u001b[0m ((*- elif cell.cell_type in ['markdown'] -*))\n\u001b[0;32m     84\u001b[0m     ((*- if resources.global_content_filter.include_markdown and not cell.metadata.get(\"transient\",{}).get(\"remove_source\", false) -*))\n\u001b[1;32m---> 85\u001b[0m         ((*- block markdowncell scoped-*)) ((*- endblock markdowncell -*))\n\u001b[0;32m     86\u001b[0m     ((*- endif -*))\n\u001b[0;32m     87\u001b[0m ((*- elif cell.cell_type in ['raw'] -*))\n",
      "File \u001b[1;32mc:\\Users\\default.LAPTOP-PTP9VI01\\anaconda3\\envs\\datascience\\lib\\site-packages\\otter\\export\\exporters\\templates\\via_latex\\index.tex.j2:32\u001b[0m, in \u001b[0;36mblock 'markdowncell'\u001b[1;34m()\u001b[0m\n\u001b[0;32m     30\u001b[0m \t\t\\cleartooddpage\n\u001b[0;32m     31\u001b[0m         ((*- endif -*))\n\u001b[1;32m---> 32\u001b[0m ((( super() )))\n\u001b[0;32m     33\u001b[0m ((* endblock markdowncell *))\n\u001b[0;32m     34\u001b[0m \n",
      "File \u001b[1;32mc:\\Users\\default.LAPTOP-PTP9VI01\\anaconda3\\envs\\datascience\\share\\jupyter\\nbconvert\\templates\\latex\\document_contents.tex.j2:68\u001b[0m, in \u001b[0;36mblock 'markdowncell'\u001b[1;34m()\u001b[0m\n\u001b[0;32m     66\u001b[0m % Render markdown\n\u001b[0;32m     67\u001b[0m ((* block markdowncell scoped *))\n\u001b[1;32m---> 68\u001b[0m     ((( cell.source | citation2latex | strip_files_prefix | convert_pandoc('markdown+tex_math_double_backslash', 'json',extra_args=[]) | resolve_references | convert_explicitly_relative_paths | convert_pandoc('json','latex'))))\n\u001b[0;32m     69\u001b[0m ((* endblock markdowncell *))\n\u001b[0;32m     70\u001b[0m \n",
      "File \u001b[1;32mc:\\Users\\default.LAPTOP-PTP9VI01\\anaconda3\\envs\\datascience\\lib\\site-packages\\nbconvert\\filters\\pandoc.py:36\u001b[0m, in \u001b[0;36mconvert_pandoc\u001b[1;34m(source, from_format, to_format, extra_args)\u001b[0m\n\u001b[0;32m     16\u001b[0m \u001b[38;5;28;01mdef\u001b[39;00m\u001b[38;5;250m \u001b[39m\u001b[38;5;21mconvert_pandoc\u001b[39m(source, from_format, to_format, extra_args\u001b[38;5;241m=\u001b[39m\u001b[38;5;28;01mNone\u001b[39;00m):\n\u001b[0;32m     17\u001b[0m \u001b[38;5;250m    \u001b[39m\u001b[38;5;124;03m\"\"\"Convert between any two formats using pandoc.\u001b[39;00m\n\u001b[0;32m     18\u001b[0m \n\u001b[0;32m     19\u001b[0m \u001b[38;5;124;03m    This function will raise an error if pandoc is not installed.\u001b[39;00m\n\u001b[1;32m   (...)\u001b[0m\n\u001b[0;32m     34\u001b[0m \u001b[38;5;124;03m        Output as returned by pandoc.\u001b[39;00m\n\u001b[0;32m     35\u001b[0m \u001b[38;5;124;03m    \"\"\"\u001b[39;00m\n\u001b[1;32m---> 36\u001b[0m     \u001b[38;5;28;01mreturn\u001b[39;00m \u001b[43mpandoc\u001b[49m\u001b[43m(\u001b[49m\u001b[43msource\u001b[49m\u001b[43m,\u001b[49m\u001b[43m \u001b[49m\u001b[43mfrom_format\u001b[49m\u001b[43m,\u001b[49m\u001b[43m \u001b[49m\u001b[43mto_format\u001b[49m\u001b[43m,\u001b[49m\u001b[43m \u001b[49m\u001b[43mextra_args\u001b[49m\u001b[38;5;241;43m=\u001b[39;49m\u001b[43mextra_args\u001b[49m\u001b[43m)\u001b[49m\n",
      "File \u001b[1;32mc:\\Users\\default.LAPTOP-PTP9VI01\\anaconda3\\envs\\datascience\\lib\\site-packages\\nbconvert\\utils\\pandoc.py:50\u001b[0m, in \u001b[0;36mpandoc\u001b[1;34m(source, fmt, to, extra_args, encoding)\u001b[0m\n\u001b[0;32m     47\u001b[0m     cmd\u001b[38;5;241m.\u001b[39mextend(extra_args)\n\u001b[0;32m     49\u001b[0m \u001b[38;5;66;03m# this will raise an exception that will pop us out of here\u001b[39;00m\n\u001b[1;32m---> 50\u001b[0m \u001b[43mcheck_pandoc_version\u001b[49m\u001b[43m(\u001b[49m\u001b[43m)\u001b[49m\n\u001b[0;32m     52\u001b[0m \u001b[38;5;66;03m# we can safely continue\u001b[39;00m\n\u001b[0;32m     53\u001b[0m p \u001b[38;5;241m=\u001b[39m subprocess\u001b[38;5;241m.\u001b[39mPopen(cmd, stdin\u001b[38;5;241m=\u001b[39msubprocess\u001b[38;5;241m.\u001b[39mPIPE, stdout\u001b[38;5;241m=\u001b[39msubprocess\u001b[38;5;241m.\u001b[39mPIPE)  \u001b[38;5;66;03m# noqa: S603\u001b[39;00m\n",
      "File \u001b[1;32mc:\\Users\\default.LAPTOP-PTP9VI01\\anaconda3\\envs\\datascience\\lib\\site-packages\\nbconvert\\utils\\pandoc.py:98\u001b[0m, in \u001b[0;36mcheck_pandoc_version\u001b[1;34m()\u001b[0m\n\u001b[0;32m     95\u001b[0m \u001b[38;5;28;01mif\u001b[39;00m check_pandoc_version\u001b[38;5;241m.\u001b[39m_cached \u001b[38;5;129;01mis\u001b[39;00m \u001b[38;5;129;01mnot\u001b[39;00m \u001b[38;5;28;01mNone\u001b[39;00m:  \u001b[38;5;66;03m# type:ignore[attr-defined]\u001b[39;00m\n\u001b[0;32m     96\u001b[0m     \u001b[38;5;28;01mreturn\u001b[39;00m check_pandoc_version\u001b[38;5;241m.\u001b[39m_cached  \u001b[38;5;66;03m# type:ignore[attr-defined]\u001b[39;00m\n\u001b[1;32m---> 98\u001b[0m v \u001b[38;5;241m=\u001b[39m \u001b[43mget_pandoc_version\u001b[49m\u001b[43m(\u001b[49m\u001b[43m)\u001b[49m\n\u001b[0;32m     99\u001b[0m \u001b[38;5;28;01mif\u001b[39;00m v \u001b[38;5;129;01mis\u001b[39;00m \u001b[38;5;28;01mNone\u001b[39;00m:\n\u001b[0;32m    100\u001b[0m     warnings\u001b[38;5;241m.\u001b[39mwarn(\n\u001b[0;32m    101\u001b[0m         \u001b[38;5;124m\"\u001b[39m\u001b[38;5;124mSorry, we cannot determine the version of pandoc.\u001b[39m\u001b[38;5;130;01m\\n\u001b[39;00m\u001b[38;5;124m\"\u001b[39m\n\u001b[0;32m    102\u001b[0m         \u001b[38;5;124m\"\u001b[39m\u001b[38;5;124mPlease consider reporting this issue and include the\u001b[39m\u001b[38;5;124m\"\u001b[39m\n\u001b[1;32m   (...)\u001b[0m\n\u001b[0;32m    105\u001b[0m         stacklevel\u001b[38;5;241m=\u001b[39m\u001b[38;5;241m2\u001b[39m,\n\u001b[0;32m    106\u001b[0m     )\n",
      "File \u001b[1;32mc:\\Users\\default.LAPTOP-PTP9VI01\\anaconda3\\envs\\datascience\\lib\\site-packages\\nbconvert\\utils\\pandoc.py:75\u001b[0m, in \u001b[0;36mget_pandoc_version\u001b[1;34m()\u001b[0m\n\u001b[0;32m     73\u001b[0m \u001b[38;5;28;01mif\u001b[39;00m __version \u001b[38;5;129;01mis\u001b[39;00m \u001b[38;5;28;01mNone\u001b[39;00m:\n\u001b[0;32m     74\u001b[0m     \u001b[38;5;28;01mif\u001b[39;00m \u001b[38;5;129;01mnot\u001b[39;00m shutil\u001b[38;5;241m.\u001b[39mwhich(\u001b[38;5;124m\"\u001b[39m\u001b[38;5;124mpandoc\u001b[39m\u001b[38;5;124m\"\u001b[39m):\n\u001b[1;32m---> 75\u001b[0m         \u001b[38;5;28;01mraise\u001b[39;00m PandocMissing()\n\u001b[0;32m     77\u001b[0m     out \u001b[38;5;241m=\u001b[39m subprocess\u001b[38;5;241m.\u001b[39mcheck_output([\u001b[38;5;124m\"\u001b[39m\u001b[38;5;124mpandoc\u001b[39m\u001b[38;5;124m\"\u001b[39m, \u001b[38;5;124m\"\u001b[39m\u001b[38;5;124m-v\u001b[39m\u001b[38;5;124m\"\u001b[39m])  \u001b[38;5;66;03m# noqa: S607, S603\u001b[39;00m\n\u001b[0;32m     78\u001b[0m     out_lines \u001b[38;5;241m=\u001b[39m out\u001b[38;5;241m.\u001b[39msplitlines()\n",
      "\u001b[1;31mPandocMissing\u001b[0m: Pandoc wasn't found.\nPlease check that pandoc is installed:\nhttps://pandoc.org/installing.html"
     ]
    }
   ],
   "source": [
    "# Save your notebook first, then run this cell to export your submission.\n",
    "grader.export(run_tests=True)"
   ]
  },
  {
   "cell_type": "markdown",
   "id": "cell-hw01-66",
   "metadata": {},
   "source": [
    " "
   ]
  }
 ],
 "metadata": {
  "kernelspec": {
   "display_name": "datascience",
   "language": "python",
   "name": "python3"
  },
  "language_info": {
   "codemirror_mode": {
    "name": "ipython",
    "version": 3
   },
   "file_extension": ".py",
   "mimetype": "text/x-python",
   "name": "python",
   "nbconvert_exporter": "python",
   "pygments_lexer": "ipython3",
   "version": "3.10.16"
  },
  "otter": {
   "OK_FORMAT": true,
   "tests": {
    "q2_1": {
     "name": "q2_1",
     "points": [
      0
     ],
     "suites": [
      {
       "cases": [
        {
         "code": ">>> 1 <= characters_q1 <= 5\nTrue",
         "hidden": false,
         "locked": false
        }
       ],
       "scored": true,
       "setup": "",
       "teardown": "",
       "type": "doctest"
      }
     ]
    },
    "q2_2": {
     "name": "q2_2",
     "points": [
      0
     ],
     "suites": [
      {
       "cases": [
        {
         "code": ">>> 1 <= characters_q2 <= 3\nTrue",
         "hidden": false,
         "locked": false
        }
       ],
       "scored": true,
       "setup": "",
       "teardown": "",
       "type": "doctest"
      }
     ]
    },
    "q3_1": {
     "name": "q3_1",
     "points": [
      0
     ],
     "suites": [
      {
       "cases": [
        {
         "code": ">>> 1 <= names_q1 <= 4\nTrue",
         "hidden": false,
         "locked": false
        }
       ],
       "scored": true,
       "setup": "",
       "teardown": "",
       "type": "doctest"
      }
     ]
    },
    "q3_2": {
     "name": "q3_2",
     "points": [
      0
     ],
     "suites": [
      {
       "cases": [
        {
         "code": ">>> 1 <= names_q2 <= 4\nTrue",
         "hidden": false,
         "locked": false
        }
       ],
       "scored": true,
       "setup": "",
       "teardown": "",
       "type": "doctest"
      }
     ]
    },
    "q3_3": {
     "name": "q3_3",
     "points": [
      0
     ],
     "suites": [
      {
       "cases": [
        {
         "code": ">>> 1 <= names_q3 <= 4\nTrue",
         "hidden": false,
         "locked": false
        }
       ],
       "scored": true,
       "setup": "",
       "teardown": "",
       "type": "doctest"
      }
     ]
    },
    "q4_1": {
     "name": "q4_1",
     "points": [
      0
     ],
     "suites": [
      {
       "cases": [
        {
         "code": ">>> isinstance(biggest_change, (int, float))\nTrue",
         "hidden": false,
         "locked": false
        }
       ],
       "scored": true,
       "setup": "",
       "teardown": "",
       "type": "doctest"
      }
     ]
    },
    "q4_2": {
     "name": "q4_2",
     "points": [
      0
     ],
     "suites": [
      {
       "cases": [
        {
         "code": ">>> isinstance(smallest_change_major, (int, float))\nTrue",
         "hidden": false,
         "locked": false
        }
       ],
       "scored": true,
       "setup": "",
       "teardown": "",
       "type": "doctest"
      }
     ]
    },
    "q4_3": {
     "name": "q4_3",
     "points": [
      0,
      0,
      0
     ],
     "suites": [
      {
       "cases": [
        {
         "code": ">>> isinstance(gws_relative_change, (int, float))\nTrue",
         "hidden": false,
         "locked": false
        },
        {
         "code": ">>> isinstance(linguistics_relative_change, (int, float))\nTrue",
         "hidden": false,
         "locked": false
        },
        {
         "code": ">>> isinstance(rhetoric_relative_change, (int, float))\nTrue",
         "hidden": false,
         "locked": false
        }
       ],
       "scored": true,
       "setup": "",
       "teardown": "",
       "type": "doctest"
      }
     ]
    },
    "q4_4": {
     "name": "q4_4",
     "points": [
      0
     ],
     "suites": [
      {
       "cases": [
        {
         "code": ">>> isinstance(biggest_rel_change_major, (int, float))\nTrue",
         "hidden": false,
         "locked": false
        }
       ],
       "scored": true,
       "setup": "",
       "teardown": "",
       "type": "doctest"
      }
     ]
    },
    "q6_1": {
     "name": "q6_1",
     "points": [
      0
     ],
     "suites": [
      {
       "cases": [
        {
         "code": ">>> 1 <= survivor_answer <= 3\nTrue",
         "hidden": false,
         "locked": false
        }
       ],
       "scored": true,
       "setup": "",
       "teardown": "",
       "type": "doctest"
      }
     ]
    }
   }
  }
 },
 "nbformat": 4,
 "nbformat_minor": 5
}
